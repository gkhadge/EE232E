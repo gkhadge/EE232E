{
 "cells": [
  {
   "cell_type": "code",
   "execution_count": 1,
   "metadata": {
    "collapsed": false
   },
   "outputs": [],
   "source": [
    "import os\n",
    "import csv\n",
    "import numpy as np\n",
    "import pandas\n",
    "\n",
    "data_directory = \"/Users/Yusi/Documents/EE232E/HW_4/finance_data/data\"\n",
    "os.chdir(data_directory)\n",
    "\n",
    "close_data = {}\n",
    "end_date_data = {}\n",
    "\n",
    "for root,dirs,files in os.walk(directory):\n",
    "    for file in files:\n",
    "        if file.endswith(\".csv\"):\n",
    "            with open(file) as f:\n",
    "                #cf = csv.DictReader(f, fieldnames=[\"Close\"])\n",
    "                cf = csv.reader(f)\n",
    "                stock_name = file[:-4]\n",
    "                #cf.next()\n",
    "                data = pandas.read_csv(file)\n",
    "                close_data[stock_name] = data[\"Close\"].values\n",
    "                end_date_data[stock_name] = [data[\"Date\"].values[0], data[\"Date\"].values[-1]]\n",
    "\n",
    "            f.close()\n",
    "            "
   ]
  },
  {
   "cell_type": "code",
   "execution_count": null,
   "metadata": {
    "collapsed": false
   },
   "outputs": [],
   "source": [
    "# stock_names = close_data.keys();\n",
    "\n",
    "# for i in range(len(stock_names)):\n",
    "#     if end_date_data[stock_names[i]][0] != '2014-05-01':\n",
    "#         print(stock_names[i])\n",
    "# #     if end_date_data[stock_names[i]][1] != '2017-05-12':\n",
    "# #         print(stock_names[i])\n",
    "        "
   ]
  },
  {
   "cell_type": "code",
   "execution_count": null,
   "metadata": {
    "collapsed": false
   },
   "outputs": [],
   "source": [
    "# r_i = np.diff(np.log(close_data['A']))\n",
    "# r_j = np.diff(np.log(close_data['AAL']))\n",
    "\n",
    "# # p_ij_n = (np.dot(r_i,r_j)/len(r_i) - np.mean(r_i)*np.mean(r_j))\n",
    "# # p_ij_d = np.sqrt(np.var(r_i) * np.var(r_j))\n",
    "# #p_ij_d = (np.sqrt((np.mean(np.square(r_i))-np.square(np.mean(r_i)))*(np.mean(np.square(r_j))-np.square(np.mean(r_j))))\n",
    "\n",
    "# p_ij = (np.dot(r_i,r_j)/len(r_i) - np.mean(r_i)*np.mean(r_j))/ (np.sqrt(np.var(r_i) * np.var(r_j)))\n",
    "# print(p_ij)\n"
   ]
  },
  {
   "cell_type": "code",
   "execution_count": null,
   "metadata": {
    "collapsed": false
   },
   "outputs": [],
   "source": [
    "network_directory = \"/Users/Yusi/Documents/EE232E/HW_4/\"\n",
    "os.chdir(network_directory)\n",
    "StockNetworkFile = \"StockNetworkFile.txt\"\n",
    "\n",
    "f = open(StockNetworkFile, 'w')\n",
    "\n",
    "d_ij_hist = []\n",
    "\n",
    "stock_names = close_data.keys();\n",
    "num_stocks = len(stock_names)\n",
    "\n",
    "for i in range(num_stocks):\n",
    "    # Loop over all Movies from actor_i\n",
    "    stock_i = stock_names[i]\n",
    "    for j in range(i+1,num_stocks):\n",
    "        stock_j = stock_names[j]\n",
    "        \n",
    "        r_i = np.diff(np.log(close_data[stock_i]))\n",
    "        r_j = np.diff(np.log(close_data[stock_j]))\n",
    "        \n",
    "        if len(r_i) != len(r_j):\n",
    "            min_len = min(len(r_i),len(r_j))     # calculate the minimum length of r_i and r_k\n",
    "\n",
    "            r_i = r_i[-min_len:] # since all stocks end at the same date, delete non-corresponding time values from the longer data set\n",
    "            r_j = r_j[-min_len:]\n",
    "\n",
    "#         print(len(r_i))\n",
    "#         print(len(r_j))\n",
    "#         print(stock_j)\n",
    "        p_ij = (np.dot(r_i,r_j)/len(r_i) - np.mean(r_i)*np.mean(r_j))/ (np.sqrt(np.var(r_i) * np.var(r_j)))\n",
    "        \n",
    "        d_ij = np.sqrt(2*(1-p_ij))\n",
    "        d_ij_hist.append(d_ij_hist)\n",
    "        \n",
    "        f.write(stock_i+\"\\t\"+stock_j+\"\\t\"+(\"%.15f\" % d_ij)+\"\\n\")\n",
    "\n",
    "f.close()\n"
   ]
  },
  {
   "cell_type": "code",
   "execution_count": 6,
   "metadata": {
    "collapsed": false
   },
   "outputs": [
    {
     "data": {
      "text/plain": [
       "127260"
      ]
     },
     "execution_count": 6,
     "metadata": {},
     "output_type": "execute_result"
    }
   ],
   "source": [
    "d_ij_hist\n",
    "len(d_ij_hist)\n",
    "# np.histogram(d_ij_hist,bins = 100)\n",
    "#np.histogram(d_ij_hist)"
   ]
  }
 ],
 "metadata": {
  "kernelspec": {
   "display_name": "Python 2",
   "language": "python",
   "name": "python2"
  },
  "language_info": {
   "codemirror_mode": {
    "name": "ipython",
    "version": 2
   },
   "file_extension": ".py",
   "mimetype": "text/x-python",
   "name": "python",
   "nbconvert_exporter": "python",
   "pygments_lexer": "ipython2",
   "version": "2.7.13"
  }
 },
 "nbformat": 4,
 "nbformat_minor": 2
}
