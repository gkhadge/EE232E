{
 "cells": [
  {
   "cell_type": "code",
   "execution_count": 182,
   "metadata": {
    "collapsed": false
   },
   "outputs": [],
   "source": [
    "import os\n",
    "import csv\n",
    "import numpy as np\n",
    "import pandas\n",
    "import sys\n",
    "\n",
    "main_dir = 'C:\\\\Users\\\\gkhadge\\\\Documents\\\\UCLA\\\\EE232E\\\\HW_4'\n",
    "os.chdir(main_dir)"
   ]
  },
  {
   "cell_type": "code",
   "execution_count": 161,
   "metadata": {
    "collapsed": false
   },
   "outputs": [],
   "source": [
    "#data_directory = \"/Users/Yusi/Documents/EE232E/HW_4/finance_data/data\"\n",
    "os.chdir(main_dir)\n",
    "data_directory = \"finance_data/data\"\n",
    "os.chdir(data_directory)\n",
    "\n",
    "close_data = {}\n",
    "end_date_data = {}\n",
    "date_data = {}\n",
    "\n",
    "for root,dirs,files in os.walk(os.path.join(main_dir, data_directory)):\n",
    "    for file in files:\n",
    "        if file.endswith(\".csv\"):\n",
    "            with open(file) as f:\n",
    "                #cf = csv.DictReader(f, fieldnames=[\"Close\"])\n",
    "                cf = csv.reader(f)\n",
    "                stock_name = file[:-4]\n",
    "                #cf.next()\n",
    "                data = pandas.read_csv(file)\n",
    "                close_data[stock_name] = data[\"Close\"].values\n",
    "                end_date_data[stock_name] = [data[\"Date\"].values[0], data[\"Date\"].values[-1]]\n",
    "                \n",
    "                # Parse into datetime format\n",
    "                if stock_name[-2:] == '.B':\n",
    "                    date_format = '%x'\n",
    "                else:\n",
    "                    date_format = '%Y-%m-%d'\n",
    "                dates = [datetime.strptime(data[\"Date\"].values[i], date_format) for i in range(len(data[\"Date\"].values))]\n",
    "                \n",
    "                date_data[stock_name] = dates\n",
    "                \n",
    "\n",
    "            f.close()\n",
    "            "
   ]
  },
  {
   "cell_type": "code",
   "execution_count": null,
   "metadata": {
    "collapsed": false
   },
   "outputs": [],
   "source": [
    "# stock_names = close_data.keys();\n",
    "\n",
    "# for i in range(len(stock_names)):\n",
    "#     if end_date_data[stock_names[i]][0] != '2014-05-01':\n",
    "#         print(stock_names[i])\n",
    "# #     if end_date_data[stock_names[i]][1] != '2017-05-12':\n",
    "# #         print(stock_names[i])\n",
    "        "
   ]
  },
  {
   "cell_type": "code",
   "execution_count": null,
   "metadata": {
    "collapsed": false
   },
   "outputs": [],
   "source": [
    "# r_i = np.diff(np.log(close_data['A']))\n",
    "# r_j = np.diff(np.log(close_data['AAL']))\n",
    "\n",
    "# # p_ij_n = (np.dot(r_i,r_j)/len(r_i) - np.mean(r_i)*np.mean(r_j))\n",
    "# # p_ij_d = np.sqrt(np.var(r_i) * np.var(r_j))\n",
    "# #p_ij_d = (np.sqrt((np.mean(np.square(r_i))-np.square(np.mean(r_i)))*(np.mean(np.square(r_j))-np.square(np.mean(r_j))))\n",
    "\n",
    "# p_ij = (np.dot(r_i,r_j)/len(r_i) - np.mean(r_i)*np.mean(r_j))/ (np.sqrt(np.var(r_i) * np.var(r_j)))\n",
    "# print(p_ij)\n"
   ]
  },
  {
   "cell_type": "code",
   "execution_count": 183,
   "metadata": {
    "collapsed": true
   },
   "outputs": [],
   "source": [
    "# Correlation Graph for Daily Data\n",
    "os.chdir(main_dir)\n",
    "StockNetworkFile = \"StockNetworkFile.txt\"\n",
    "\n",
    "f = open(StockNetworkFile, 'w')\n",
    "\n",
    "\n",
    "stock_names = close_data.keys();\n",
    "num_stocks = len(stock_names)\n",
    "\n",
    "d_ij_hist = np.zeros(int(num_stocks*(num_stocks-1)/2.0), dtype=np.float)\n",
    "p_ij = np.zeros(int(num_stocks*(num_stocks-1)/2.0), dtype=np.float)\n",
    "\n",
    "ind = 0\n",
    "\n",
    "for i in range(num_stocks):\n",
    "    # Loop over all stocks\n",
    "    stock_i = stock_names[i]\n",
    "    for j in range(i+1,num_stocks):\n",
    "        \n",
    "        stock_j = stock_names[j]\n",
    "        \n",
    "        r_i = np.diff(np.log(close_data[stock_i]))\n",
    "        r_j = np.diff(np.log(close_data[stock_j]))\n",
    "        \n",
    "        if len(r_i) != len(r_j):\n",
    "            min_len = min(len(r_i),len(r_j))     # calculate the minimum length of r_i and r_k\n",
    "\n",
    "            r_i = r_i[-min_len:] # since all stocks end at the same date, delete non-corresponding time values from the longer data set\n",
    "            r_j = r_j[-min_len:]\n",
    "\n",
    "#         print(len(r_i))\n",
    "#         print(len(r_j))\n",
    "#         print(stock_j)\n",
    "        p_ij[ind] = (np.dot(r_i,r_j)/len(r_i) - np.mean(r_i)*np.mean(r_j))/ (np.sqrt(np.var(r_i) * np.var(r_j)))\n",
    "        \n",
    "        d_ij = np.sqrt(2*(1-p_ij[ind]))\n",
    "        d_ij_hist[ind] = d_ij\n",
    "        \n",
    "        ind = ind+1\n",
    "        \n",
    "        f.write(stock_i+\"\\t\"+stock_j+\"\\t\"+(\"%.15f\" % d_ij)+\"\\n\")\n",
    "\n",
    "f.close()\n"
   ]
  },
  {
   "cell_type": "code",
   "execution_count": 175,
   "metadata": {
    "collapsed": false
   },
   "outputs": [
    {
     "data": {
      "text/plain": [
       "0"
      ]
     },
     "execution_count": 175,
     "metadata": {},
     "output_type": "execute_result"
    }
   ],
   "source": [
    "date_data['ZTS'][7].weekday()\n"
   ]
  },
  {
   "cell_type": "code",
   "execution_count": 181,
   "metadata": {
    "collapsed": false
   },
   "outputs": [],
   "source": [
    "# Correlation Graph for Weekly Data\n",
    "os.chdir(main_dir)\n",
    "StockNetworkFile = \"StockNetworkFile_Weekly.txt\"\n",
    "\n",
    "f = open(StockNetworkFile, 'w')\n",
    "\n",
    "\n",
    "stock_names = close_data.keys();\n",
    "num_stocks = len(stock_names)\n",
    "\n",
    "d_ij_hist = np.zeros(int(num_stocks*(num_stocks-1)/2.0), dtype=np.float)\n",
    "p_ij = np.zeros(int(num_stocks*(num_stocks-1)/2.0), dtype=np.float)\n",
    "\n",
    "ind = 0\n",
    "\n",
    "for i in range(num_stocks):\n",
    "    # Loop over all stocks\n",
    "    stock_i = stock_names[i]\n",
    "    for j in range(i+1,num_stocks):\n",
    "        \n",
    "        stock_j = stock_names[j]\n",
    "        \n",
    "        start_day_i = 0;\n",
    "        start_day_j = 0;\n",
    "        while date_data[stock_i][start_day_i] < date_data[stock_j][start_day_j]:\n",
    "            start_day_i += 1\n",
    "        \n",
    "        while date_data[stock_i][start_day_i] > date_data[stock_j][start_day_j]:\n",
    "            start_day_j += 1\n",
    "            \n",
    "        weekly_log_close_i = []\n",
    "        weekly_log_close_j = []\n",
    "        \n",
    "        day = 0\n",
    "        \n",
    "        curr_day = -1\n",
    "        while start_day_i + day < len(date_data[stock_i]) and start_day_j + day < len(date_data[stock_j]):\n",
    "            prev_day = curr_day\n",
    "            curr_day = date_data[stock_i][start_day_i + day].weekday()\n",
    "            \n",
    "            # If Monday, or Tuesday with Monday being a holiday\n",
    "            if curr_day == 0 or (curr_day == 1 and prev_day == 4):\n",
    "                weekly_log_close_i.append(np.log(close_data[stock_i][start_day_i + day]))\n",
    "                weekly_log_close_j.append(np.log(close_data[stock_j][start_day_j + day]))\n",
    "            \n",
    "            day += 1\n",
    "        \n",
    "        r_i = np.diff(weekly_log_close_i)\n",
    "        r_j = np.diff(weekly_log_close_j)\n",
    "        \n",
    "\n",
    "#         print(len(r_i))\n",
    "#         print(len(r_j))\n",
    "#         print(stock_j)\n",
    "        p_ij[ind] = (np.dot(r_i,r_j)/len(r_i) - np.mean(r_i)*np.mean(r_j))/ (np.sqrt(np.var(r_i) * np.var(r_j)))\n",
    "        \n",
    "        d_ij = np.sqrt(2*(1-p_ij[ind]))\n",
    "        d_ij_hist[ind] = d_ij\n",
    "        \n",
    "        ind = ind+1\n",
    "        \n",
    "        f.write(stock_i+\"\\t\"+stock_j+\"\\t\"+(\"%.15f\" % d_ij)+\"\\n\")\n",
    "\n",
    "f.close()\n"
   ]
  },
  {
   "cell_type": "code",
   "execution_count": 4,
   "metadata": {
    "collapsed": false
   },
   "outputs": [
    {
     "data": {
      "image/png": "[encoded data removed]",
      "text/plain": [
       "<matplotlib.figure.Figure at 0x114d63810>"
      ]
     },
     "metadata": {},
     "output_type": "display_data"
    }
   ],
   "source": [
    "import matplotlib.pyplot as plt\n",
    "\n",
    "# the histogram of the data\n",
    "n, bins, patches = plt.hist(d_ij_hist, 100, normed=1, alpha = 0.75)\n",
    "\n",
    "plt.xlabel('D_ij Value')\n",
    "plt.ylabel('Probability')\n",
    "plt.title('D_ij Histogram')\n",
    "\n",
    "plt.show()"
   ]
  },
  {
   "cell_type": "code",
   "execution_count": 12,
   "metadata": {
    "collapsed": false
   },
   "outputs": [],
   "source": [
    "# Problem 7: Modifying Correlation\n",
    "os.chdir(main_dir)\n",
    "StockNetworkFileMod = \"StockNetworkFileMod.txt\"\n",
    "\n",
    "f = open(StockNetworkFileMod, 'w')\n",
    "\n",
    "# open new file to save d_ij\n",
    "d_ij_hist_mod = np.zeros(int(num_stocks*(num_stocks-1)/2.0), dtype=np.float)\n",
    "p_ij_mod = np.zeros(int(num_stocks*(num_stocks-1)/2.0), dtype=np.float)\n",
    "\n",
    "ind = 0\n",
    "\n",
    "for i in range(num_stocks):\n",
    "    # Loop over all stocks\n",
    "    stock_i = stock_names[i]\n",
    "    for j in range(i+1,num_stocks):\n",
    "        \n",
    "        stock_j = stock_names[j]\n",
    "        \n",
    "        r_i = np.diff(np.log(close_data[stock_i]))\n",
    "        r_j = np.diff(np.log(close_data[stock_j]))\n",
    "        \n",
    "        if len(r_i) != len(r_j):\n",
    "            min_len = min(len(r_i),len(r_j))     # calculate the minimum length of r_i and r_k\n",
    "\n",
    "            r_i = r_i[-min_len:] # since all stocks end at the same date, delete non-corresponding time values from the longer data set\n",
    "            r_j = r_j[-min_len:]\n",
    "\n",
    "#         print(len(r_i))\n",
    "#         print(len(r_j))\n",
    "#         print(stock_j)\n",
    "        p_ij_mod[ind] = (np.dot(r_i,r_j)/len(r_i) - np.mean(r_i)*np.mean(r_j))/ (np.sqrt(np.var(r_i) * np.var(r_j)))\n",
    "        \n",
    "        if p_ij_mod[ind] > 0.3:\n",
    "            p_ij_mod[ind] = -1\n",
    "        \n",
    "        d_ij_mod = np.sqrt(2*(1-p_ij_mod[ind]))\n",
    "        d_ij_hist_mod[ind] = d_ij_mod\n",
    "        \n",
    "        ind = ind + 1\n",
    "        \n",
    "        f.write(stock_i+\"\\t\"+stock_j+\"\\t\"+(\"%.15f\" % d_ij_mod)+\"\\n\")\n",
    "\n",
    "f.close()"
   ]
  },
  {
   "cell_type": "code",
   "execution_count": 14,
   "metadata": {
    "collapsed": false
   },
   "outputs": [
    {
     "data": {
      "image/png": "[encoded data removed]",
      "text/plain": [
       "<matplotlib.figure.Figure at 0x115c10310>"
      ]
     },
     "metadata": {},
     "output_type": "display_data"
    }
   ],
   "source": [
    "# the histogram of the data\n",
    "n, bins, patches = plt.hist(d_ij_hist_mod, 100, normed=1, alpha = 0.75)\n",
    "\n",
    "plt.xlabel('D_ij Modified Value')\n",
    "plt.ylabel('Probability')\n",
    "plt.title('D_ij Modified Histogram')\n",
    "\n",
    "plt.show()"
   ]
  },
  {
   "cell_type": "code",
   "execution_count": 2,
   "metadata": {
    "collapsed": true
   },
   "outputs": [],
   "source": [
    "# Eulerian Path Function\n",
    "from collections import defaultdict\n",
    "\n",
    "def find_euler_tour(graph):\n",
    "    tour = []\n",
    "    E = graph\n",
    "\n",
    "    numEdges = defaultdict(int)\n",
    "\n",
    "    def find_tour(u):\n",
    "        for e in E:\n",
    "            if u == e[0]:\n",
    "                u,v = e\n",
    "                E.remove(e)\n",
    "                find_tour(v)\n",
    "            elif u == e[1]:\n",
    "                v,u = e\n",
    "                E.remove(e)\n",
    "                find_tour(v)\n",
    "        tour.insert(0,u)\n",
    "\n",
    "    for i,j in graph:\n",
    "        numEdges[i] += 1\n",
    "        numEdges[j] += 1\n",
    "\n",
    "    start = graph[0][0]\n",
    "    for i,j in numEdges.iteritems():\n",
    "        if j % 2 > 0:\n",
    "            start = i\n",
    "            break\n",
    "\n",
    "    current = start\n",
    "    find_tour(current)\n",
    "\n",
    "    if tour[0] != tour[-1]:\n",
    "        return None\n",
    "    return tour\n"
   ]
  },
  {
   "cell_type": "code",
   "execution_count": 111,
   "metadata": {
    "collapsed": false
   },
   "outputs": [
    {
     "name": "stdout",
     "output_type": "stream",
     "text": [
      "MST Weight: 426.37\n",
      "TSP Approx: 485.38\n"
     ]
    }
   ],
   "source": [
    "# PROBLEM 5 TSP Approximation using Eulerian Path Method\n",
    "sys.setrecursionlimit(1500)\n",
    "\n",
    "# Load MST\n",
    "with open('StockNetwork_MST.txt', 'rb') as f:\n",
    "    reader = csv.reader(f, delimiter=' ')\n",
    "    g_mst = list(reader)\n",
    "    \n",
    "# Sum MST weight, and remove edgeweights for find_euler_tour\n",
    "MST_weight = 0\n",
    "for i in range(len(g_mst)):\n",
    "    MST_weight += float(g_mst[i][2])\n",
    "    g_mst[i] = g_mst[i][0:2]\n",
    "    \n",
    "# Double the edges\n",
    "g_mst_doubled = g_mst + g_mst\n",
    "\n",
    "# Find Eulerian tour\n",
    "etour = find_euler_tour(g_mst_doubled)\n",
    "\n",
    "# Remove duplicate nodes to create TSP approximation\n",
    "TSP_approx = [];\n",
    "for i in etour:\n",
    "  if i not in TSP_approx:\n",
    "    TSP_approx.append(i)\n",
    "# Make the TSP end at the starting node\n",
    "TSP_approx.append(etour[0])\n",
    "\n",
    "# Open the full graph\n",
    "with open('StockNetworkFile.txt', 'rb') as f:\n",
    "    reader = csv.reader(f, delimiter='\\t')\n",
    "    g = list(reader)\n",
    "\n",
    "# Create dictionary of edge weights. keys are node1_node2 where node1 is alphabetically earlier\n",
    "edgedict = {}\n",
    "for edge in g:\n",
    "    if edge[0] < edge[1]:\n",
    "        key = edge[0]+'_'+edge[1]\n",
    "    else:\n",
    "        key = edge[1]+'_'+edge[0]\n",
    "    edgedict[key] = float(edge[2])\n",
    "    \n",
    "# Sum edgeweights along TSP approx route\n",
    "TSP_approx_value = 0\n",
    "for i in range(len(TSP_approx)-1):\n",
    "    node0 = TSP_approx[i]\n",
    "    node1 = TSP_approx[i+1]\n",
    "    if node0 < node1:\n",
    "        edge = node0+'_'+node1\n",
    "    else:\n",
    "        edge = node1+'_'+node0\n",
    "    TSP_approx_value += edgedict[edge]    \n",
    "\n",
    "print \"MST Weight: {:0.2f}\".format(MST_weight)\n",
    "print \"TSP Approx: {:0.2f}\".format(TSP_approx_value)"
   ]
  }
 ],
 "metadata": {
  "anaconda-cloud": {},
  "kernelspec": {
   "display_name": "Python [default]",
   "language": "python",
   "name": "python2"
  },
  "language_info": {
   "codemirror_mode": {
    "name": "ipython",
    "version": 2
   },
   "file_extension": ".py",
   "mimetype": "text/x-python",
   "name": "python",
   "nbconvert_exporter": "python",
   "pygments_lexer": "ipython2",
   "version": "2.7.12"
  }
 },
 "nbformat": 4,
 "nbformat_minor": 2
}
